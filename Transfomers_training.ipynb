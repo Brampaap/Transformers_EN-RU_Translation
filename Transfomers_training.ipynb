{
  "cells": [
    {
      "cell_type": "markdown",
      "id": "1a62d887-01aa-4980-9220-3bf28c077504",
      "metadata": {
        "id": "1a62d887-01aa-4980-9220-3bf28c077504"
      },
      "source": [
        "### Домашнее задание Transformers Training (50 баллов)"
      ]
    },
    {
      "cell_type": "markdown",
      "id": "f31d7452-febe-4d25-a9c1-005fcc26b35b",
      "metadata": {
        "id": "f31d7452-febe-4d25-a9c1-005fcc26b35b"
      },
      "source": [
        "В этом домашнем задании требуется обучить несколько Transformer-based моделей в задаче машинного перевода. Для обучения можно воспользоваться текущим проектом, так и реализовать свой пайплайн обучения. Если будете использовать проект, теги **TODO** проекта отмечают, какие компоненты надо реализовать.\n",
        "В ноутбуке нужно только отобразить результаты обучения и выводы. Архитектура модели(количетсво слоев, размерность и тд) остается на ваш выбор.\n",
        "\n",
        "Ваш код обучения нужно выложить на ваш github, в строке ниже дать ссылку на него. В первую очередь будут оцениваться результаты в ноутбуке, код нужен для проверки адекватности результатов. \n",
        "\n",
        "Обучать модели до конца не нужно, только для демонстрации, что модель обучается и рабочая - снижение val_loss, рост bleu_score."
      ]
    },
    {
      "cell_type": "markdown",
      "id": "a691e7b9-6538-42b1-96b8-838f2efab4af",
      "metadata": {
        "id": "a691e7b9-6538-42b1-96b8-838f2efab4af"
      },
      "source": [
        "#### Сcылка на ваш github с проектом(вставить свой) - https://github.com/runnerup96/pytorch-machine-translation\n",
        "\n",
        "Ноутбук с результатами выкладывать на ваш **google диск** курса. "
      ]
    },
    {
      "cell_type": "markdown",
      "id": "dbca1e62-b210-4426-9854-55b652417a4b",
      "metadata": {
        "id": "dbca1e62-b210-4426-9854-55b652417a4b"
      },
      "source": [
        "### Данные\n",
        "\n",
        "`\n",
        "wget https://www.manythings.org/anki/rus-eng.zip && unzip rus-eng.zip\n",
        "`\n",
        "\n",
        "Модели нужно обучить на задаче перевода с английского на русский. "
      ]
    },
    {
      "cell_type": "code",
      "execution_count": 1,
      "id": "710e84de-f7a4-46da-a611-74c90a67e24b",
      "metadata": {
        "colab": {
          "base_uri": "https://localhost:8080/"
        },
        "id": "710e84de-f7a4-46da-a611-74c90a67e24b",
        "outputId": "9bd43032-80ee-4cbd-da33-edab8db432c5"
      },
      "outputs": [
        {
          "output_type": "stream",
          "name": "stdout",
          "text": [
            "Archive:  /content/Archive.zip\n",
            "  inflating: __init__.py             \n",
            "   creating: configs/\n",
            "   creating: configs/.ipynb_checkpoints/\n",
            "  inflating: configs/model_config.yaml  \n",
            "  inflating: configs/data_config.yaml  \n",
            "  inflating: configs/.ipynb_checkpoints/model_config-checkpoint.yaml  \n",
            "  inflating: configs/.ipynb_checkpoints/data_config-checkpoint.yaml  \n",
            "   creating: dataset/\n",
            "  inflating: dataset/rus.txt         \n",
            "  inflating: __MACOSX/dataset/._rus.txt  \n",
            "   creating: dataset/.ipynb_checkpoints/\n",
            "  inflating: dataset/.ipynb_checkpoints/rus-checkpoint.txt  \n",
            "  inflating: __MACOSX/dataset/.ipynb_checkpoints/._rus-checkpoint.txt  \n",
            "   creating: src/\n",
            "  inflating: src/metrics.py          \n",
            "  inflating: src/txt_logger.py       \n",
            " extracting: src/__init__.py         \n",
            "   creating: src/models/\n",
            "   creating: src/__pycache__/\n",
            "   creating: src/data/\n",
            "  inflating: src/models/attention.py  \n",
            "  inflating: src/models/seq2seq_t5.py  \n",
            "  inflating: src/models/encoder_rnn.py  \n",
            "   creating: src/models/__pycache__/\n",
            "  inflating: src/models/seq2seq_transformer.py  \n",
            "  inflating: __MACOSX/src/models/._seq2seq_transformer.py  \n",
            "  inflating: src/models/decoder_rnn.py  \n",
            "  inflating: src/models/seq2seq_rnn.py  \n",
            "  inflating: src/models/trainer.py   \n",
            "  inflating: src/models/positional_encoding.py  \n",
            "  inflating: __MACOSX/src/models/._positional_encoding.py  \n",
            "  inflating: src/__pycache__/__init__.cpython-38.pyc  \n",
            "  inflating: src/__pycache__/txt_logger.cpython-38.pyc  \n",
            "  inflating: src/__pycache__/txt_logger.cpython-310.pyc  \n",
            "  inflating: src/__pycache__/metrics.cpython-310.pyc  \n",
            "  inflating: src/__pycache__/metrics.cpython-38.pyc  \n",
            "  inflating: src/__pycache__/__init__.cpython-310.pyc  \n",
            "  inflating: src/data/mt_dataset.py  \n",
            "   creating: src/data/__pycache__/\n",
            "  inflating: src/data/utils.py       \n",
            "  inflating: src/data/datamodule.py  \n",
            "  inflating: src/data/space_tokenizer.py  \n",
            "  inflating: src/data/bpe_tokenizer.py  \n",
            "   creating: src/data/.ipynb_checkpoints/\n",
            "  inflating: src/data/t5_tikenizer.py  \n",
            "  inflating: src/models/__pycache__/seq2seq_transformer.cpython-310.pyc  \n",
            "  inflating: src/models/__pycache__/trainer.cpython-38.pyc  \n",
            "  inflating: src/models/__pycache__/trainer.cpython-310.pyc  \n",
            "  inflating: src/models/__pycache__/seq2seq_transformer.cpython-38.pyc  \n",
            "  inflating: src/models/__pycache__/seq2seq_t5.cpython-310.pyc  \n",
            "  inflating: src/models/__pycache__/positional_encoding.cpython-38.pyc  \n",
            "  inflating: src/models/__pycache__/positional_encoding.cpython-310.pyc  \n",
            "  inflating: src/data/__pycache__/utils.cpython-38.pyc  \n",
            "  inflating: src/data/__pycache__/bpe_tokenizer.cpython-38.pyc  \n",
            "  inflating: src/data/__pycache__/utils.cpython-310.pyc  \n",
            "  inflating: src/data/__pycache__/datamodule.cpython-38.pyc  \n",
            "  inflating: src/data/__pycache__/t5_tikenizer.cpython-310.pyc  \n",
            "  inflating: src/data/__pycache__/mt_dataset.cpython-310.pyc  \n",
            "  inflating: src/data/__pycache__/t5_tikenizer.cpython-38.pyc  \n",
            "  inflating: src/data/__pycache__/mt_dataset.cpython-38.pyc  \n",
            "  inflating: src/data/__pycache__/bpe_tokenizer.cpython-310.pyc  \n",
            "  inflating: src/data/__pycache__/datamodule.cpython-310.pyc  \n",
            "  inflating: src/data/.ipynb_checkpoints/utils-checkpoint.py  \n",
            "  inflating: src/data/.ipynb_checkpoints/datamodule-checkpoint.py  \n",
            "   creating: training_logs/\n",
            "  inflating: training_logs/progress_log.txt  \n",
            " extracting: __main__.py             \n",
            " extracting: main.py                 \n",
            "  inflating: train_seq2seq_rnn.py    \n",
            "  inflating: train_seq2seq_t5.py     \n",
            "  inflating: train_seq2seq_transformer.py  \n",
            "  inflating: __MACOSX/._train_seq2seq_transformer.py  \n",
            "  inflating: requirements.txt        \n",
            "  inflating: README.md               \n",
            "  inflating: RNN  traning analysis.ipynb  \n"
          ]
        }
      ],
      "source": [
        "!unzip /content/Archive.zip"
      ]
    },
    {
      "cell_type": "markdown",
      "id": "cc772a6e-7d1a-4d8d-8024-0454a948835b",
      "metadata": {
        "tags": [],
        "id": "cc772a6e-7d1a-4d8d-8024-0454a948835b"
      },
      "source": [
        "### Обучение Seq2seq Transformer модель(25 баллов)\n",
        "\n",
        "Реализуйте Seq2seq Transformer. В качестве блока трансформера можно использовать https://pytorch.org/docs/stable/generated/torch.nn.Transformer.html. В качестве токенизатора воспользуйтесь HuggingFace токенизатор для source/target языков - https://huggingface.co/docs/transformers/fast_tokenizers\n",
        "В качестве максимальной длинны возьмите предложения длинной **до 15 слов**, без каких либо префиксов. \n",
        "\n",
        "Не забудьте остальные элементы модели:\n",
        "* Мы можем использовать 1 трансформер как энкодер - декодером будет выступать линейный слой. \n",
        "* Обучите свой BPE токенизатор - https://huggingface.co/docs/transformers/fast_tokenizers\n",
        "* Матрицу эмбеддингов токенов\n",
        "* Матрицу позицонных эмбеддингов\n",
        "* Линейный слой проекции в target словарь\n",
        "* Функцию маскирования будущих состояний attention, так как модель авто-регрессионна\n",
        "* Learning rate schedualer\n",
        "\n",
        "\n",
        "В качестве результатов, приложите слудующие данные:\n",
        "1) Параметры обучения - learning rate, batch_size, epoch_num, размерность скрытого слоя, количетсво слоев\n",
        "2) Графики обучения - train loss, val loss, bleu score\n",
        "3) Примеры переводов вашей модели(10 штук) - source text, true target text, predicted target text"
      ]
    },
    {
      "cell_type": "code",
      "execution_count": 1,
      "id": "7a7ce070-1e45-47ac-a07a-c36b6baa114e",
      "metadata": {
        "colab": {
          "base_uri": "https://localhost:8080/"
        },
        "id": "7a7ce070-1e45-47ac-a07a-c36b6baa114e",
        "outputId": "6359b518-8684-46c4-a603-fe4f5192c55a"
      },
      "outputs": [
        {
          "output_type": "stream",
          "name": "stdout",
          "text": [
            "Looking in indexes: https://pypi.org/simple, https://us-python.pkg.dev/colab-wheels/public/simple/\n",
            "Requirement already satisfied: tokenizers in /usr/local/lib/python3.10/dist-packages (0.13.3)\n",
            "Requirement already satisfied: transformers in /usr/local/lib/python3.10/dist-packages (4.29.2)\n",
            "Requirement already satisfied: filelock in /usr/local/lib/python3.10/dist-packages (from transformers) (3.12.0)\n",
            "Requirement already satisfied: huggingface-hub<1.0,>=0.14.1 in /usr/local/lib/python3.10/dist-packages (from transformers) (0.14.1)\n",
            "Requirement already satisfied: numpy>=1.17 in /usr/local/lib/python3.10/dist-packages (from transformers) (1.22.4)\n",
            "Requirement already satisfied: packaging>=20.0 in /usr/local/lib/python3.10/dist-packages (from transformers) (23.1)\n",
            "Requirement already satisfied: pyyaml>=5.1 in /usr/local/lib/python3.10/dist-packages (from transformers) (6.0)\n",
            "Requirement already satisfied: regex!=2019.12.17 in /usr/local/lib/python3.10/dist-packages (from transformers) (2022.10.31)\n",
            "Requirement already satisfied: requests in /usr/local/lib/python3.10/dist-packages (from transformers) (2.27.1)\n",
            "Requirement already satisfied: tqdm>=4.27 in /usr/local/lib/python3.10/dist-packages (from transformers) (4.65.0)\n",
            "Requirement already satisfied: fsspec in /usr/local/lib/python3.10/dist-packages (from huggingface-hub<1.0,>=0.14.1->transformers) (2023.4.0)\n",
            "Requirement already satisfied: typing-extensions>=3.7.4.3 in /usr/local/lib/python3.10/dist-packages (from huggingface-hub<1.0,>=0.14.1->transformers) (4.5.0)\n",
            "Requirement already satisfied: urllib3<1.27,>=1.21.1 in /usr/local/lib/python3.10/dist-packages (from requests->transformers) (1.26.15)\n",
            "Requirement already satisfied: certifi>=2017.4.17 in /usr/local/lib/python3.10/dist-packages (from requests->transformers) (2022.12.7)\n",
            "Requirement already satisfied: charset-normalizer~=2.0.0 in /usr/local/lib/python3.10/dist-packages (from requests->transformers) (2.0.12)\n",
            "Requirement already satisfied: idna<4,>=2.5 in /usr/local/lib/python3.10/dist-packages (from requests->transformers) (3.4)\n"
          ]
        },
        {
          "output_type": "stream",
          "name": "stderr",
          "text": [
            "Reading from file: 467119it [00:09, 51882.40it/s]\n",
            "  0%|          | 1/400 [01:06<7:23:09, 66.64s/it]"
          ]
        },
        {
          "output_type": "stream",
          "name": "stdout",
          "text": [
            "Current BLEU:  0.41746427959445975\n",
            "том и некотор ---> том и ма ого\n",
            "ты знал что у ---> ты знал что э\n",
            "ты вроде гово ---> яы дыяде тодо\n",
            "не понимаю по ---> яе понимаю чо\n",
            "том планирует ---> том поанирует\n",
            "##############################\n"
          ]
        },
        {
          "output_type": "stream",
          "name": "stderr",
          "text": [
            "\r  0%|          | 2/400 [02:12<7:17:40, 65.98s/it]"
          ]
        },
        {
          "output_type": "stream",
          "name": "stdout",
          "text": [
            "Current BLEU:  0.40575981160588853\n",
            "я хочу чтобы ---> я хочу чтобы\n",
            "мэри нравится ---> мэри зравится\n",
            "том перевёл с ---> том помемыл п\n",
            "том так и не ---> том на  и не\n",
            "видишь большо ---> тыдишь сыльше\n",
            "##############################\n"
          ]
        },
        {
          "output_type": "stream",
          "name": "stderr",
          "text": [
            "\r  1%|          | 3/400 [03:17<7:14:59, 65.74s/it]"
          ]
        },
        {
          "output_type": "stream",
          "name": "stdout",
          "text": [
            "Current BLEU:  0.48015571176493416\n",
            "взрыв популяц ---> пеяечаполасит\n",
            "я сел в кресл ---> я сел весоиме\n",
            "по правде гов ---> срлтровда сов\n",
            "я сказал тому ---> я сказал тому\n",
            "том пытался п ---> том пытался у\n",
            "##############################\n"
          ]
        },
        {
          "output_type": "stream",
          "name": "stderr",
          "text": [
            "\r  1%|          | 4/400 [04:23<7:13:16, 65.65s/it]"
          ]
        },
        {
          "output_type": "stream",
          "name": "stdout",
          "text": [
            "Current BLEU:  0.5067657583274098\n",
            "мой отец не т ---> мой отец де с\n",
            "том пообещал ---> том сообещал\n",
            "она следит за ---> она пледул ва\n",
            "если я тебе к ---> если б тебе с\n",
            "почему вы всё ---> почему ты пст\n",
            "##############################\n"
          ]
        },
        {
          "output_type": "stream",
          "name": "stderr",
          "text": [
            "\r  1%|▏         | 5/400 [05:27<7:09:03, 65.17s/it]"
          ]
        },
        {
          "output_type": "stream",
          "name": "stdout",
          "text": [
            "Current BLEU:  0.5592574176839393\n",
            "все мужчины б ---> все можчиныйм\n",
            "очевидно что ---> эневидно тто\n",
            "том будет сме ---> том судет с о\n",
            "я думал я теб ---> я думал ч ноб\n",
            "ты всегда дол ---> те дсегда дол\n",
            "##############################\n"
          ]
        },
        {
          "output_type": "stream",
          "name": "stderr",
          "text": [
            "\r  2%|▏         | 6/400 [06:32<7:06:43, 64.98s/it]"
          ]
        },
        {
          "output_type": "stream",
          "name": "stdout",
          "text": [
            "Current BLEU:  0.5328988107448448\n",
            "он давно им н ---> он новно н ен\n",
            "пожалуйста за ---> пожалуйста па\n",
            "мэри посовето ---> тери тосовето\n",
            "том верит все ---> том всрит все\n",
            "пока ты не пр ---> воназты пе пр\n",
            "##############################\n"
          ]
        },
        {
          "output_type": "stream",
          "name": "stderr",
          "text": [
            "\r  2%|▏         | 7/400 [07:38<7:09:01, 65.50s/it]"
          ]
        },
        {
          "output_type": "stream",
          "name": "stdout",
          "text": [
            "Current BLEU:  0.5407348943854802\n",
            "не забудь что ---> не забудь что\n",
            "мне больше нр ---> яне ныльше нр\n",
            "у тома и мэри ---> у тома и мэри\n",
            "я не хочу гов ---> я не хочу сов\n",
            "некоторые утв ---> некоторые лгр\n",
            "##############################\n"
          ]
        },
        {
          "output_type": "stream",
          "name": "stderr",
          "text": [
            "\r  2%|▏         | 8/400 [08:45<7:10:06, 65.83s/it]"
          ]
        },
        {
          "output_type": "stream",
          "name": "stdout",
          "text": [
            "Current BLEU:  0.533188255442983\n",
            "я уснул заним ---> я ппнул са ум\n",
            "я нашёл эту э ---> я нашёл пто п\n",
            "того мальчишк ---> эато бнльчике\n",
            "эта машина сл ---> это машина сл\n",
            "пожалуйста по ---> пожалуйста пож\n",
            "##############################\n"
          ]
        },
        {
          "output_type": "stream",
          "name": "stderr",
          "text": [
            "\r  2%|▏         | 9/400 [09:49<7:06:56, 65.51s/it]"
          ]
        },
        {
          "output_type": "stream",
          "name": "stdout",
          "text": [
            "Current BLEU:  0.5922092303910995\n",
            "том никогда н ---> том никогда н\n",
            "том ловил мух ---> том пежал паз\n",
            "она попросила ---> она попросила\n",
            "я здесь живу ---> я ждесь живут\n",
            "том не из тех ---> том не дд даб\n",
            "##############################\n"
          ]
        },
        {
          "output_type": "stream",
          "name": "stderr",
          "text": [
            "\r  2%|▎         | 10/400 [10:54<7:03:17, 65.12s/it]"
          ]
        },
        {
          "output_type": "stream",
          "name": "stdout",
          "text": [
            "Current BLEU:  0.5596966790895335\n",
            "ты ненавидишь ---> ты ненавидишь\n",
            "насколько эфф ---> касколько фтее\n",
            "мне нужна инф ---> мне нужна внф\n",
            "жаль что у то ---> эаль что эжэр\n",
            "город снабжал ---> коряд пточиал\n",
            "##############################\n"
          ]
        },
        {
          "output_type": "stream",
          "name": "stderr",
          "text": [
            "\r  3%|▎         | 11/400 [12:00<7:04:22, 65.46s/it]"
          ]
        },
        {
          "output_type": "stream",
          "name": "stdout",
          "text": [
            "Current BLEU:  0.580938605119999\n",
            "я знаю что то ---> я знаю что то\n",
            "какое грязное ---> оаж ймиоазну\n",
            "мы посадили в ---> мы плсадили с\n",
            "я разберусь с ---> я сазрерусь с\n",
            "что вы любите ---> что ты любите\n",
            "##############################\n"
          ]
        },
        {
          "output_type": "stream",
          "name": "stderr",
          "text": [
            "\r  3%|▎         | 12/400 [13:06<7:04:52, 65.70s/it]"
          ]
        },
        {
          "output_type": "stream",
          "name": "stdout",
          "text": [
            "Current BLEU:  0.5936985831993897\n",
            "вы не должны ---> та не должны\n",
            "проблемы обыч ---> проблема нб ч\n",
            "том читает кн ---> том читает па\n",
            "ты будешь чув ---> ты пудешь сув\n",
            "без кота мыша ---> куз кот  башл\n",
            "##############################\n"
          ]
        },
        {
          "output_type": "stream",
          "name": "stderr",
          "text": [
            "\r  3%|▎         | 13/400 [14:14<7:08:01, 66.36s/it]"
          ]
        },
        {
          "output_type": "stream",
          "name": "stdout",
          "text": [
            "Current BLEU:  0.5976305676338478\n",
            "том купил три ---> том купил три\n",
            "в году испани ---> в пору ггпоте\n",
            "я хочу чтобы ---> я хочу чтобы\n",
            "думаешь полиц ---> думаешь полиц\n",
            "у тебя есть ч ---> т тебя хщть с\n",
            "##############################\n"
          ]
        },
        {
          "output_type": "stream",
          "name": "stderr",
          "text": [
            "\r  4%|▎         | 14/400 [15:24<7:13:49, 67.43s/it]"
          ]
        },
        {
          "output_type": "stream",
          "name": "stdout",
          "text": [
            "Current BLEU:  0.581679335093604\n",
            "том пригласил ---> том пригласил\n",
            "вы когда нибу ---> ты когда нибу\n",
            "не потеряй во ---> не сомишяй н\n",
            "хочешь не хоч ---> подешь тр точ\n",
            "у меня такое ---> у меня еекое\n",
            "##############################\n"
          ]
        },
        {
          "output_type": "stream",
          "name": "stderr",
          "text": [
            "\r  4%|▍         | 15/400 [16:30<7:10:40, 67.12s/it]"
          ]
        },
        {
          "output_type": "stream",
          "name": "stdout",
          "text": [
            "Current BLEU:  0.6001434770259224\n",
            "том говорит ч ---> том говорит ч\n",
            "они послали н ---> они послали н\n",
            "я не знаю пра ---> я не знаю чоо\n",
            "ты не должен ---> те не должен\n",
            "не понимаю за ---> яе понимаю па\n",
            "##############################\n"
          ]
        },
        {
          "output_type": "stream",
          "name": "stderr",
          "text": [
            "\r  4%|▍         | 16/400 [17:36<7:06:01, 66.57s/it]"
          ]
        },
        {
          "output_type": "stream",
          "name": "stdout",
          "text": [
            "Current BLEU:  0.54119703171849\n",
            "это заманчиво ---> это ва ениива\n",
            "я знаю что то ---> я знаю что то\n",
            "если твои окн ---> если твои окн\n",
            "моя цель не у ---> моя дель не п\n",
            "по французски ---> то французски\n",
            "##############################\n"
          ]
        },
        {
          "output_type": "stream",
          "name": "stderr",
          "text": [
            "\r  4%|▍         | 17/400 [18:43<7:06:19, 66.79s/it]"
          ]
        },
        {
          "output_type": "stream",
          "name": "stdout",
          "text": [
            "Current BLEU:  0.6154737601375877\n",
            "кем ты хочешь ---> чам ты хочешь\n",
            "я хочу чтобы ---> я хочу чтобы\n",
            "на третьем эт ---> еа доебие  ет\n",
            "думаешь том в ---> думаешь том в\n",
            "сто долларов ---> отаисолжжлива\n",
            "##############################\n"
          ]
        },
        {
          "output_type": "stream",
          "name": "stderr",
          "text": [
            "\r  4%|▍         | 18/400 [19:48<7:01:54, 66.27s/it]"
          ]
        },
        {
          "output_type": "stream",
          "name": "stdout",
          "text": [
            "Current BLEU:  0.6228995919316536\n",
            "организация о ---> нбуа иео ая н\n",
            "почему ты всё ---> почему ты всё\n",
            "тебе понравил ---> тебе понравил\n",
            "зря я пообеща ---> жря я эрззида\n",
            "том позвал мэ ---> том позвол мэ\n",
            "##############################\n"
          ]
        },
        {
          "output_type": "stream",
          "name": "stderr",
          "text": [
            "\r  5%|▍         | 19/400 [20:53<6:59:11, 66.02s/it]"
          ]
        },
        {
          "output_type": "stream",
          "name": "stdout",
          "text": [
            "Current BLEU:  0.6090660173777671\n",
            "ты действител ---> ты пействител\n",
            "это не должно ---> это не должно\n",
            "том спрятался ---> том спрятался\n",
            "если при выдо ---> если тоисты н\n",
            "том и мэри на ---> том и мэри на\n",
            "##############################\n"
          ]
        },
        {
          "output_type": "stream",
          "name": "stderr",
          "text": [
            "\r  5%|▌         | 20/400 [21:58<6:54:52, 65.51s/it]"
          ]
        },
        {
          "output_type": "stream",
          "name": "stdout",
          "text": [
            "Current BLEU:  0.5873318240471801\n",
            "том ничего не ---> том нечего не\n",
            "том вероятно ---> вом вероятно\n",
            "самая любимая ---> лемыя тюбима\n",
            "будем надеять ---> будем надеять\n",
            "ей не нравятс ---> ей не нравитс\n",
            "##############################\n"
          ]
        },
        {
          "output_type": "stream",
          "name": "stderr",
          "text": [
            "\r  5%|▌         | 21/400 [23:05<6:57:56, 66.16s/it]"
          ]
        },
        {
          "output_type": "stream",
          "name": "stdout",
          "text": [
            "Current BLEU:  0.5941322691484457\n",
            "чем старше мы ---> сем старши пе\n",
            "у меня не оче ---> я меня не оче\n",
            "я думал тому ---> я думал том \n",
            "я не знал что ---> я не знал что\n",
            "забастовка на ---> за автораа па\n",
            "##############################\n"
          ]
        },
        {
          "output_type": "stream",
          "name": "stderr",
          "text": [
            "\r  6%|▌         | 22/400 [24:13<6:59:04, 66.52s/it]"
          ]
        },
        {
          "output_type": "stream",
          "name": "stdout",
          "text": [
            "Current BLEU:  0.6322983298973136\n",
            "я быстро съел ---> я быстро съел\n",
            "том и мэри ку ---> том и мэри ку\n",
            "не думаю что ---> не думаю что\n",
            "том время от ---> том п амя вб\n",
            "я помню вы го ---> я помню ча тд\n",
            "##############################\n"
          ]
        },
        {
          "output_type": "stream",
          "name": "stderr",
          "text": [
            "\r  6%|▌         | 22/400 [24:17<6:57:24, 66.26s/it]"
          ]
        },
        {
          "output_type": "stream",
          "name": "stdout",
          "text": [
            "Last 22 epoch train loss:  83.3468209207058\n",
            "Last 22 epoch val loss:  0.6249455415954193\n",
            "Last 22 epoch val bleu:  0.6322983298973136\n"
          ]
        },
        {
          "output_type": "stream",
          "name": "stderr",
          "text": [
            "\n"
          ]
        }
      ],
      "source": [
        "!pip3 install tokenizers transformers\n",
        "import torch\n",
        "import yaml\n",
        "\n",
        "from src.data import datamodule\n",
        "from src.models import seq2seq_transformer, trainer\n",
        "from src.txt_logger import TXTLogger\n",
        "\n",
        "if torch.cuda.is_available():\n",
        "    DEVICE = \"cuda\"\n",
        "else:\n",
        "    DEVICE = \"cpu\"\n",
        "\n",
        "data_config = yaml.load(open(\"configs/data_config.yaml\", \"r\"), Loader=yaml.Loader)\n",
        "dm = datamodule.DataManager(data_config, DEVICE)\n",
        "train_dataloader, dev_dataloader = dm.prepare_data()\n",
        "\n",
        "model_config = yaml.load(open(\"configs/model_config.yaml\", \"r\"), Loader=yaml.Loader)\n",
        "\n",
        "# TODO: Инициализируйте модель Seq2SeqTransformer\n",
        "model = seq2seq_transformer.Seq2SeqTransformer(\n",
        "    device=DEVICE,\n",
        "    emb_size=model_config[\"emb_size\"],\n",
        "    vocab_size=len(dm.target_tokenizer),\n",
        "    nhead=model_config[\"nhead\"],\n",
        "    num_layers=model_config[\"num_layers\"],\n",
        "    dim_feedforward=model_config[\"dim_feedforward\"],\n",
        "    target_tokenizer=dm.target_tokenizer,\n",
        "    max_seq_length=data_config[\"max_length\"] * 10,\n",
        ").to(DEVICE)\n",
        "\n",
        "logger = TXTLogger(\"training_logs\")\n",
        "trainer_cls = trainer.Trainer(model=model, model_config=model_config, logger=logger)\n",
        "\n",
        "if model_config[\"try_one_batch\"]:\n",
        "    train_dataloader = [list(train_dataloader)[0]]\n",
        "    dev_dataloader = [list(train_dataloader)[0]]\n",
        "trainer_cls.train(train_dataloader, dev_dataloader)"
      ]
    },
    {
      "cell_type": "code",
      "source": [
        "def predict(src):\n",
        "      model.eval()\n",
        "\n",
        "      with torch.no_grad():\n",
        "          src = src.to(model.device)\n",
        "          trg_input = torch.tensor([[model.target_tokenizer.tokenizer.token_to_id('[BOS]')]], device=model.device)\n",
        "          output = []\n",
        "\n",
        "          while trg_input[:, -1].item() != model.target_tokenizer.tokenizer.token_to_id('[EOS]') and len(output) < 34:\n",
        "              trg_input = trg_input.to(model.device)\n",
        "              _, output_step = model.forward(src, trg_input)\n",
        "              pred_token = torch.argmax(output_step, dim=-1)[:, -1]\n",
        "              output.append(pred_token.item())\n",
        "\n",
        "              trg_input = torch.cat((trg_input, pred_token.unsqueeze(1)), dim=-1)\n",
        "\n",
        "          predicted_ids = torch.tensor(output, device=model.device).unsqueeze(0)\n",
        "            \n",
        "      model.train()\n",
        "      return predicted_ids"
      ],
      "metadata": {
        "id": "D6lejAUO-673"
      },
      "id": "D6lejAUO-673",
      "execution_count": 45,
      "outputs": []
    },
    {
      "cell_type": "code",
      "source": [
        "for i, batch in enumerate(dev_dataloader):\n",
        "    src, trg = batch\n",
        "\n",
        "    target_tokens = dm.target_tokenizer.decode(trg[0].tolist())\n",
        "    source_tokens = dm.source_tokenizer.decode(src[0].tolist())\n",
        "    predicted_tokens = dm.target_tokenizer.decode(model.predict(src[:1,])[0].tolist())\n",
        "\n",
        "    print(\"Source: \", source_tokens, \"\\tTarget: \", target_tokens, \"\\tPredicted: \", predicted_tokens)\n",
        "    if i > 9:\n",
        "      break"
      ],
      "metadata": {
        "colab": {
          "base_uri": "https://localhost:8080/"
        },
        "id": "DUqzU8ow_Fux",
        "outputId": "019f28de-5ba9-4931-812b-499699a3d354"
      },
      "id": "DUqzU8ow_Fux",
      "execution_count": 29,
      "outputs": [
        {
          "output_type": "stream",
          "name": "stdout",
          "text": [
            "Source:  everything will \tTarget:  всё случится \tPredicted:  всё будет с т\n",
            "Source:  i didn t know tha \tTarget:  я не знал что \tPredicted:  я не знал что\n",
            "Source:  i don t want to tal \tTarget:  я не хочу с в \tPredicted:  я не хочу гов\n",
            "Source:  the government s \tTarget:  решение прави \tPredicted:  зовут признач\n",
            "Source:  you re the most bea \tTarget:  ты самая крас \tPredicted:  ты большинств\n",
            "Source:  puns are very hard \tTarget:  игру слов оче \tPredicted:  положи очень\n",
            "Source:  tom s great great g \tTarget:  прапрапрабабу \tPredicted:  жерт тома сов\n",
            "Source:  why don t you try onth \tTarget:  почему ты не \tPredicted:  почему бы теб\n",
            "Source:  i m not the kind of \tTarget:  я не такой ка \tPredicted:  я не добрый д\n",
            "Source:  tom is going to get m \tTarget:  том собираетс \tPredicted:  том собираетс\n",
            "Source:  this factory man \tTarget:  этот завод пр \tPredicted:  этот факт муж\n"
          ]
        }
      ]
    },
    {
      "cell_type": "code",
      "source": [
        "import os\n",
        "import re\n",
        "import json\n",
        "import matplotlib.pylab as plt\n",
        "\n",
        "%pylab inline"
      ],
      "metadata": {
        "colab": {
          "base_uri": "https://localhost:8080/"
        },
        "id": "g1IXRg6JUk52",
        "outputId": "b888ce55-19a0-4762-a894-0cc4d4b85411"
      },
      "id": "g1IXRg6JUk52",
      "execution_count": 43,
      "outputs": [
        {
          "output_type": "stream",
          "name": "stdout",
          "text": [
            "Populating the interactive namespace from numpy and matplotlib\n"
          ]
        },
        {
          "output_type": "stream",
          "name": "stderr",
          "text": [
            "/usr/local/lib/python3.10/dist-packages/IPython/core/magics/pylab.py:159: UserWarning: pylab import has clobbered these variables: ['plt']\n",
            "`%matplotlib` prevents importing * from pylab and numpy\n",
            "  warn(\"pylab import has clobbered these variables: %s\"  % clobbered +\n"
          ]
        }
      ]
    },
    {
      "cell_type": "code",
      "source": [
        "MATCH_REGEX = re.compile(r\"[+-]?\\b(\\d+([.]\\d*)?([eE][+-]?\\d+)?|[.]\\d+([eE][+-]?\\d+)?)\\b\")\n",
        "\n",
        "def extract_values(string):\n",
        "    result = dict()\n",
        "    params = ['val_loss', 'train_loss', 'bleu_score']\n",
        "    if \"train_loss\" in string:\n",
        "        found_vals = [re_match[0] for re_match in re.findall(MATCH_REGEX, string)]\n",
        "    \n",
        "        if len(params) == len(found_vals):\n",
        "            for name, val in zip(params, found_vals):\n",
        "                result[name] = float(val)\n",
        "    return result\n",
        "\n",
        "def plot_results(train_loss_list, val_loss_list, val_bleu_list, run_name):\n",
        "    fig, (ax1, ax2) = plt.subplots(1, 2, figsize=(20, 5))\n",
        "    \n",
        "    ax1.plot(range(len(train_loss_list)), train_loss_list, label='train loss')\n",
        "    ax1.plot(range(len(val_loss_list)), val_loss_list, label='val loss')\n",
        "    ax1.set_xlabel('epoch')\n",
        "    ax1.set_ylabel('loss')\n",
        "    ax1.legend()\n",
        "    \n",
        "    ax2.plot(range(len(val_bleu_list)), val_bleu_list, label='val bleu')\n",
        "    ax2.set_xlabel('epoch')\n",
        "    ax2.set_ylabel('BLEU')\n",
        "    ax2.legend()\n",
        "    \n",
        "    fig.suptitle(run_name, fontsize=20)\n",
        "    plt.show()"
      ],
      "metadata": {
        "id": "QCflDxyGVTW6"
      },
      "id": "QCflDxyGVTW6",
      "execution_count": 44,
      "outputs": []
    },
    {
      "cell_type": "code",
      "source": [
        "DATAPATH = '/content/training_logs'\n",
        "progress_file_path = os.path.join(DATAPATH, \"progress_log.txt\")\n",
        "file_content = open(progress_file_path, 'r').read().split(\"\\n\")"
      ],
      "metadata": {
        "id": "u1UBuX2UVV5Q"
      },
      "id": "u1UBuX2UVV5Q",
      "execution_count": 45,
      "outputs": []
    },
    {
      "cell_type": "code",
      "source": [
        "train_loss_list, val_loss_list, val_bleu_list = [], [], []\n",
        "for line in file_content:\n",
        "    d = extract_values(line)\n",
        "    if len(d) > 0:\n",
        "        train_loss_list.append(d['train_loss'])\n",
        "        val_loss_list.append(d['val_loss'])\n",
        "        val_bleu_list.append(d['bleu_score'])\n",
        "    \n",
        "        \n",
        "len(train_loss_list), len(val_loss_list), len(val_bleu_list)"
      ],
      "metadata": {
        "colab": {
          "base_uri": "https://localhost:8080/"
        },
        "id": "0meqWrvYVapk",
        "outputId": "0405f153-7aec-493b-96bc-899792ded673"
      },
      "id": "0meqWrvYVapk",
      "execution_count": 46,
      "outputs": [
        {
          "output_type": "execute_result",
          "data": {
            "text/plain": [
              "(10, 10, 10)"
            ]
          },
          "metadata": {},
          "execution_count": 46
        }
      ]
    },
    {
      "cell_type": "code",
      "source": [
        "plot_results(train_loss_list, val_loss_list, val_bleu_list, run_name='Transformer with attention training')"
      ],
      "metadata": {
        "colab": {
          "base_uri": "https://localhost:8080/",
          "height": 316
        },
        "id": "UDZY1yA2VdAQ",
        "outputId": "0d66f23a-e1b1-4a30-9ab0-8ee0003c7438"
      },
      "id": "UDZY1yA2VdAQ",
      "execution_count": 35,
      "outputs": [
        {
          "output_type": "display_data",
          "data": {
            "text/plain": [
              "<Figure size 2000x500 with 2 Axes>"
            ],
            "image/png": "[encoded data removed]"
          },
          "metadata": {}
        }
      ]
    },
    {
      "cell_type": "markdown",
      "id": "245297ae-d62b-4227-9312-ccff5a1c13c9",
      "metadata": {
        "id": "245297ae-d62b-4227-9312-ccff5a1c13c9"
      },
      "source": [
        "### Fine-tune pretrained T5 (25 баллов)\n",
        "\n",
        "Реализуйте Seq2seq Pretrained T5. Воспользуйтесь https://huggingface.co/docs/transformers/model_doc/t5 предобученной моделью. В качестве максимальной длинны возьмите предложения длинной **до 15 слов**, без каких либо префиксов. Архитектура модели(количетсво слоев, размерность и тд) остается на ваш выбор.\n",
        "\n",
        "Не забудьте важные аспекты обучения модели:\n",
        "* Взять готовый t5 токенизатор\n",
        "* Resize matrix embedding - скорей всего ваша матрица эмбеддингов не будет включать эмбеддинги из вашего сета. Пример обновления матрицы эмбеддингов тут тут https://github.com/runnerup96/Transformers-Tuning/blob/main/t5_encoder_decoder.py\n",
        "* Learning rate schedualer/Adafactor with constant learning rate\n",
        "\n",
        "\n",
        "В качестве результатов, приложите слудующие данные:\n",
        "1) Параметры обучения - learning rate, batch_size, epoch_num, pretrained model name\n",
        "2) Графики обучения - train loss, val loss, bleu score\n",
        "3) Примеры переводов вашей модели(10 штук) - source text, true target text, predicted target text"
      ]
    },
    {
      "cell_type": "code",
      "execution_count": 1,
      "id": "5993bdc9-44f6-4af8-8e46-36d4e6824ca4",
      "metadata": {
        "colab": {
          "base_uri": "https://localhost:8080/"
        },
        "id": "5993bdc9-44f6-4af8-8e46-36d4e6824ca4",
        "outputId": "e8e0b286-0354-4a81-da91-9c0da4e0a92c"
      },
      "outputs": [
        {
          "output_type": "stream",
          "name": "stdout",
          "text": [
            "Archive:  /content/Archive 2.zip\n",
            "   creating: configs/\n",
            "   creating: configs/.ipynb_checkpoints/\n",
            "  inflating: configs/model_config.yaml  \n",
            "  inflating: configs/data_config.yaml  \n",
            "  inflating: configs/.ipynb_checkpoints/model_config-checkpoint.yaml  \n",
            "  inflating: configs/.ipynb_checkpoints/data_config-checkpoint.yaml  \n",
            "   creating: dataset/\n",
            "  inflating: dataset/rus.txt         \n",
            "  inflating: __MACOSX/dataset/._rus.txt  \n",
            "   creating: dataset/.ipynb_checkpoints/\n",
            "  inflating: dataset/.ipynb_checkpoints/rus-checkpoint.txt  \n",
            "  inflating: __MACOSX/dataset/.ipynb_checkpoints/._rus-checkpoint.txt  \n",
            "   creating: src/\n",
            "  inflating: src/metrics.py          \n",
            "  inflating: src/.DS_Store           \n",
            "  inflating: __MACOSX/src/._.DS_Store  \n",
            "  inflating: src/txt_logger.py       \n",
            " extracting: src/__init__.py         \n",
            "   creating: src/models/\n",
            "   creating: src/__pycache__/\n",
            "   creating: src/data/\n",
            "  inflating: src/models/attention.py  \n",
            "  inflating: src/models/seq2seq_t5.py  \n",
            "  inflating: src/models/encoder_rnn.py  \n",
            "   creating: src/models/__pycache__/\n",
            "  inflating: src/models/seq2seq_transformer.py  \n",
            "  inflating: __MACOSX/src/models/._seq2seq_transformer.py  \n",
            "  inflating: src/models/decoder_rnn.py  \n",
            "  inflating: src/models/seq2seq_rnn.py  \n",
            "  inflating: src/models/trainer.py   \n",
            "  inflating: src/models/positional_encoding.py  \n",
            "  inflating: __MACOSX/src/models/._positional_encoding.py  \n",
            "  inflating: src/__pycache__/__init__.cpython-38.pyc  \n",
            "  inflating: src/__pycache__/txt_logger.cpython-38.pyc  \n",
            "  inflating: src/__pycache__/txt_logger.cpython-310.pyc  \n",
            "  inflating: src/__pycache__/metrics.cpython-310.pyc  \n",
            "  inflating: src/__pycache__/metrics.cpython-38.pyc  \n",
            "  inflating: src/__pycache__/__init__.cpython-310.pyc  \n",
            "  inflating: src/data/mt_dataset.py  \n",
            "   creating: src/data/__pycache__/\n",
            "  inflating: src/data/utils.py       \n",
            "  inflating: src/data/datamodule.py  \n",
            "  inflating: src/data/space_tokenizer.py  \n",
            "  inflating: src/data/bpe_tokenizer.py  \n",
            "  inflating: __MACOSX/src/data/._bpe_tokenizer.py  \n",
            "   creating: src/data/.ipynb_checkpoints/\n",
            "  inflating: src/data/t5_tikenizer.py  \n",
            "  inflating: src/models/__pycache__/seq2seq_transformer.cpython-310.pyc  \n",
            "  inflating: src/models/__pycache__/trainer.cpython-38.pyc  \n",
            "  inflating: src/models/__pycache__/trainer.cpython-310.pyc  \n",
            "  inflating: src/models/__pycache__/seq2seq_transformer.cpython-38.pyc  \n",
            "  inflating: src/models/__pycache__/seq2seq_t5.cpython-310.pyc  \n",
            "  inflating: src/models/__pycache__/positional_encoding.cpython-38.pyc  \n",
            "  inflating: src/models/__pycache__/positional_encoding.cpython-310.pyc  \n",
            "  inflating: src/data/__pycache__/utils.cpython-38.pyc  \n",
            "  inflating: src/data/__pycache__/bpe_tokenizer.cpython-38.pyc  \n",
            "  inflating: src/data/__pycache__/utils.cpython-310.pyc  \n",
            "  inflating: src/data/__pycache__/datamodule.cpython-38.pyc  \n",
            "  inflating: src/data/__pycache__/t5_tikenizer.cpython-310.pyc  \n",
            "  inflating: src/data/__pycache__/mt_dataset.cpython-310.pyc  \n",
            "  inflating: src/data/__pycache__/t5_tikenizer.cpython-38.pyc  \n",
            "  inflating: src/data/__pycache__/mt_dataset.cpython-38.pyc  \n",
            "  inflating: src/data/__pycache__/bpe_tokenizer.cpython-310.pyc  \n",
            "  inflating: src/data/__pycache__/datamodule.cpython-310.pyc  \n",
            "  inflating: src/data/.ipynb_checkpoints/utils-checkpoint.py  \n",
            "  inflating: src/data/.ipynb_checkpoints/datamodule-checkpoint.py  \n",
            "   creating: training_logs/\n",
            "  inflating: training_logs/progress_log.txt  \n",
            "  inflating: __init__.py             \n",
            " extracting: __main__.py             \n",
            " extracting: main.py                 \n",
            "  inflating: train_seq2seq_rnn.py    \n",
            "  inflating: train_seq2seq_t5.py     \n",
            "  inflating: train_seq2seq_transformer.py  \n",
            "  inflating: __MACOSX/._train_seq2seq_transformer.py  \n",
            "  inflating: requirements.txt        \n",
            "  inflating: README.md               \n",
            "  inflating: RNN  traning analysis.ipynb  \n"
          ]
        }
      ],
      "source": [
        "!unzip /content/Archive\\ 2.zip"
      ]
    },
    {
      "cell_type": "code",
      "source": [
        "!pip3 install tokenizers transformers\n",
        "import torch\n",
        "import yaml\n",
        "\n",
        "from src.data.datamodule import DataManager\n",
        "from src.models import seq2seq_t5, trainer\n",
        "from src.txt_logger import TXTLogger\n",
        "\n",
        "if torch.cuda.is_available():\n",
        "    DEVICE = \"cuda\"\n",
        "else:\n",
        "    DEVICE = \"cpu\"\n",
        "\n",
        "data_config = yaml.load(open(\"configs/data_config.yaml\", \"r\"), Loader=yaml.Loader)\n",
        "dm = DataManager(data_config, DEVICE)\n",
        "train_dataloader, dev_dataloader = dm.prepare_data()\n",
        "\n",
        "model_config = yaml.load(open(\"configs/model_config.yaml\", \"r\"), Loader=yaml.Loader)\n",
        "\n",
        "# TODO: Инициализируйте модель Seq2SeqTransformer\n",
        "model = seq2seq_t5.Seq2SeqT5(device=DEVICE, tokenizer=dm.global_tokenizer)\n",
        "\n",
        "logger = TXTLogger(\"training_logs\")\n",
        "trainer_cls = trainer.Trainer(model=model, model_config=model_config, logger=logger)\n",
        "\n",
        "# if model_config[\"try_one_batch\"]:\n",
        "#     train_dataloader = [list(train_dataloader)[0]]\n",
        "#     dev_dataloader = [list(train_dataloader)[0]]\n",
        "\n",
        "trainer_cls.train(train_dataloader, dev_dataloader)\n"
      ],
      "metadata": {
        "colab": {
          "base_uri": "https://localhost:8080/"
        },
        "id": "P5xgDYeo0lAV",
        "outputId": "c051609f-d931-486f-d2a5-53f6f93a44ef"
      },
      "id": "P5xgDYeo0lAV",
      "execution_count": 1,
      "outputs": [
        {
          "output_type": "stream",
          "name": "stdout",
          "text": [
            "Looking in indexes: https://pypi.org/simple, https://us-python.pkg.dev/colab-wheels/public/simple/\n",
            "Requirement already satisfied: tokenizers in /usr/local/lib/python3.10/dist-packages (0.13.3)\n",
            "Requirement already satisfied: transformers in /usr/local/lib/python3.10/dist-packages (4.29.2)\n",
            "Requirement already satisfied: filelock in /usr/local/lib/python3.10/dist-packages (from transformers) (3.12.0)\n",
            "Requirement already satisfied: huggingface-hub<1.0,>=0.14.1 in /usr/local/lib/python3.10/dist-packages (from transformers) (0.14.1)\n",
            "Requirement already satisfied: numpy>=1.17 in /usr/local/lib/python3.10/dist-packages (from transformers) (1.22.4)\n",
            "Requirement already satisfied: packaging>=20.0 in /usr/local/lib/python3.10/dist-packages (from transformers) (23.1)\n",
            "Requirement already satisfied: pyyaml>=5.1 in /usr/local/lib/python3.10/dist-packages (from transformers) (6.0)\n",
            "Requirement already satisfied: regex!=2019.12.17 in /usr/local/lib/python3.10/dist-packages (from transformers) (2022.10.31)\n",
            "Requirement already satisfied: requests in /usr/local/lib/python3.10/dist-packages (from transformers) (2.27.1)\n",
            "Requirement already satisfied: tqdm>=4.27 in /usr/local/lib/python3.10/dist-packages (from transformers) (4.65.0)\n",
            "Requirement already satisfied: fsspec in /usr/local/lib/python3.10/dist-packages (from huggingface-hub<1.0,>=0.14.1->transformers) (2023.4.0)\n",
            "Requirement already satisfied: typing-extensions>=3.7.4.3 in /usr/local/lib/python3.10/dist-packages (from huggingface-hub<1.0,>=0.14.1->transformers) (4.5.0)\n",
            "Requirement already satisfied: urllib3<1.27,>=1.21.1 in /usr/local/lib/python3.10/dist-packages (from requests->transformers) (1.26.15)\n",
            "Requirement already satisfied: certifi>=2017.4.17 in /usr/local/lib/python3.10/dist-packages (from requests->transformers) (2022.12.7)\n",
            "Requirement already satisfied: charset-normalizer~=2.0.0 in /usr/local/lib/python3.10/dist-packages (from requests->transformers) (2.0.12)\n",
            "Requirement already satisfied: idna<4,>=2.5 in /usr/local/lib/python3.10/dist-packages (from requests->transformers) (3.4)\n"
          ]
        },
        {
          "output_type": "stream",
          "name": "stderr",
          "text": [
            "Reading from file: 467119it [00:06, 70123.22it/s]\n",
            "  0%|          | 1/400 [02:43<18:05:31, 163.24s/it]"
          ]
        },
        {
          "output_type": "stream",
          "name": "stdout",
          "text": [
            "Current BLEU:  0.2528400591883239\n",
            "её б аб уш ка д  ---> его поыуш оде а  \n",
            "её  роман бы л п  ---> его по ишше   ли  \n",
            "том  и мэ ри п ровели н ---> том  и мэ ри  риётил\n",
            "не за сиж ивай ся   ---> не   стл илть я  \n",
            "мы в се  делали что то за ---> мы  се  нлаемсто   \n",
            "##############################\n"
          ]
        },
        {
          "output_type": "stream",
          "name": "stderr",
          "text": [
            "\r  0%|          | 2/400 [05:25<17:58:33, 162.60s/it]"
          ]
        },
        {
          "output_type": "stream",
          "name": "stdout",
          "text": [
            "Current BLEU:  0.4197615679494615\n",
            "з имой  ког да м о ---> в ушй  ког да  о\n",
            "не  думаю что том з  ---> не  думаю что том з \n",
            "я  не  в том по лож ении ч --->  не  ы  мож ий \n",
            "как  толь ко в  ко ---> томскок томугоь ко ы ра\n",
            "ж аль что я  родился  ---> хо аль что я  родился \n",
            "##############################\n"
          ]
        },
        {
          "output_type": "stream",
          "name": "stderr",
          "text": [
            "\r  1%|          | 3/400 [08:07<17:55:54, 162.60s/it]"
          ]
        },
        {
          "output_type": "stream",
          "name": "stdout",
          "text": [
            "Current BLEU:  0.49314808198980864\n",
            "ты  разго варивал в о ---> ты горазго варивал в а\n",
            "том о каза лся  точ но ---> том в тза лся  тол но\n",
            "том не бы л з десь с о ---> том бы л з десь  \n",
            "в б ольш ое  дерево на --->   ольш ие  тлав \n",
            "у том а в овсе  не б ---> у том а не ыесеё не б\n",
            "##############################\n"
          ]
        },
        {
          "output_type": "stream",
          "name": "stderr",
          "text": [
            "\r  1%|          | 4/400 [10:50<17:52:37, 162.52s/it]"
          ]
        },
        {
          "output_type": "stream",
          "name": "stdout",
          "text": [
            "Current BLEU:  0.5592029338887654\n",
            "я  не з нал что  вы с том ---> я  не з нал что тыы  том\n",
            "снач ала о н сч итал ---> вч ала д н по  иал\n",
            "ты с об ираешь ся ч ---> ты  таб ираешь ся  \n",
            "я  не  верю в то что  у ---> я  не  верю ч  томто тому\n",
            "мы бы ли н еспо соб  ---> мы не ы ли не  епо б \n",
            "##############################\n"
          ]
        },
        {
          "output_type": "stream",
          "name": "stderr",
          "text": [
            "\r  1%|▏         | 5/400 [13:34<17:53:04, 163.00s/it]"
          ]
        },
        {
          "output_type": "stream",
          "name": "stdout",
          "text": [
            "Current BLEU:  0.5793659837756265\n",
            "это  конец том у м иру  ---> это  коточ  а  олоет\n",
            "том по об ещ ал мэ ри ---> том о об ещ ал мэ ри\n",
            "на б ерег у  реки м ---> мм олзз ал уш \n",
            "я  не  думаю что том з --->  не  думаю что том з\n",
            "она  люб ит э того ---> она  люб ит м той\n",
            "##############################\n"
          ]
        },
        {
          "output_type": "stream",
          "name": "stderr",
          "text": [
            "\r  2%|▏         | 6/400 [16:16<17:48:55, 162.78s/it]"
          ]
        },
        {
          "output_type": "stream",
          "name": "stdout",
          "text": [
            "Current BLEU:  0.6316324516293275\n",
            "мой б рат  интересу ---> мой б рат  интересу\n",
            "неваж но с луч итс ---> неваж но  луч ас\n",
            "том с ейч ас в скапы ---> том  койч ас  ёза \n",
            "том не  люб ит го ворить ---> том не  люб ит го ворить\n",
            "зач ем ты  раскры  ---> поч ем    узсры \n",
            "##############################\n"
          ]
        },
        {
          "output_type": "stream",
          "name": "stderr",
          "text": [
            "\r  2%|▏         | 7/400 [18:59<17:45:51, 162.73s/it]"
          ]
        },
        {
          "output_type": "stream",
          "name": "stdout",
          "text": [
            "Current BLEU:  0.6292852309547702\n",
            "мы нач нем за втра  ---> мы нач нм за втра на\n",
            "том вы рос в н еб оль ---> том вы рос в н еб оль\n",
            "коралловый  риф г ---> корепьь й  кос  \n",
            "том в ообще  не  уч ---> том в ссеобще  не  уч\n",
            "нам н уж но с делать ---> нам н уж но по делать\n",
            "##############################\n"
          ]
        },
        {
          "output_type": "stream",
          "name": "stderr",
          "text": [
            "\r  2%|▏         | 8/400 [21:41<17:42:52, 162.68s/it]"
          ]
        },
        {
          "output_type": "stream",
          "name": "stdout",
          "text": [
            "Current BLEU:  0.6466598962117005\n",
            "это  не  мой з онтик ---> это  не  мой з онтик\n",
            "ты го воришь м не что  ---> ты го воришь ч не что \n",
            "если ты хоч ешь   ---> если хо хоч ешь ч \n",
            "вы бы по смотрели  как ---> ы ды  слотрели  как\n",
            "п равитель ство с тим ---> п равитель ство на наора\n",
            "##############################\n"
          ]
        },
        {
          "output_type": "stream",
          "name": "stderr",
          "text": [
            "\r  2%|▏         | 9/400 [24:24<17:39:41, 162.61s/it]"
          ]
        },
        {
          "output_type": "stream",
          "name": "stdout",
          "text": [
            "Current BLEU:  0.6497509096720506\n",
            "тот б ар о дно  и ---> этот б ар о динй и\n",
            "ты д олж ен выб ирать ---> ты д олж ен выб рарать\n",
            "сроч но н уж ны д  ---> роч но н уж ноы  \n",
            "бы ло  темно  и я  ---> ы ло  темно  и я \n",
            "не  думаю что  у том  ---> не  думаю что  у том \n",
            "##############################\n"
          ]
        },
        {
          "output_type": "stream",
          "name": "stderr",
          "text": [
            "\r  2%|▎         | 10/400 [27:06<17:36:49, 162.59s/it]"
          ]
        },
        {
          "output_type": "stream",
          "name": "stdout",
          "text": [
            "Current BLEU:  0.6435100418556753\n",
            "у м еня  нет выб о ---> у м еня  нет выб ор\n",
            "во в ремя ч тения п  ---> ко с ременя   иение п \n",
            "кораб ль  тщ ате ---> кораб ль б ися ате\n",
            "том  люб ил мэ ри н ---> том  раюб ил мэ ри н\n",
            "я хоч у з нать  ког ---> я хоч у з нать  ког\n",
            "##############################\n"
          ]
        },
        {
          "output_type": "stream",
          "name": "stderr",
          "text": [
            "\r  2%|▎         | 10/400 [28:37<18:36:18, 171.74s/it]"
          ]
        },
        {
          "output_type": "stream",
          "name": "stdout",
          "text": [
            "Last 10 epoch train loss:  135.2405546605587\n",
            "Last 10 epoch val loss:  0.6563982531428337\n",
            "Last 10 epoch val bleu:  0.6435100418556753\n"
          ]
        },
        {
          "output_type": "stream",
          "name": "stderr",
          "text": [
            "\n"
          ]
        }
      ]
    },
    {
      "cell_type": "code",
      "source": [
        "\n",
        "\n",
        "model.to('cpu')\n",
        "# # generate text until the output length (which includes the context length) reaches 50\n",
        "# greedy_output = model.t5_model.generate(torch.IntTensor([input_ids[\"input_ids\"], input_ids[\"attention_mask\"]]), max_length=50)\n",
        "\n",
        "# print(dm.global_tokenizer.decode(greedy_output[0]))\n",
        "for i, batch in enumerate(dev_dataloader):\n",
        "  model.eval()\n",
        "  with torch.no_grad():\n",
        "    src, trg, src_mask = batch\n",
        "    # encode context the generation is conditioned on\n",
        "\n",
        "    greedy_output = model.t5_model.generate(torch.IntTensor([src[0].tolist(), src_mask[0].tolist()]), max_length=50)\n",
        "    target_tokens = dm.global_tokenizer.decode(trg[0].tolist())\n",
        "    source_tokens = dm.global_tokenizer.decode(src[0].tolist())\n",
        "    predicted_tokens = dm.global_tokenizer.decode(greedy_output[0])\n",
        "\n",
        "    print(\"Source: \", source_tokens, \"\\nTarget: \", target_tokens, \"\\nPredicted: \", predicted_tokens, \"\\n\\n\")\n",
        "    if i > 9:\n",
        "      break"
      ],
      "metadata": {
        "colab": {
          "base_uri": "https://localhost:8080/"
        },
        "id": "jMsENAUS2AI3",
        "outputId": "061fca7d-66c6-4349-fbbe-24750bf41679"
      },
      "id": "jMsENAUS2AI3",
      "execution_count": 41,
      "outputs": [
        {
          "output_type": "stream",
          "name": "stdout",
          "text": [
            "Source:  i  ve  been  in  love  with tom  \n",
            "Target:  я  влюб лена в том а с  \n",
            "Predicted:  я  влюб ился  в том а \n",
            "\n",
            "\n",
            "Source:  i  thought  that you d  be  c \n",
            "Target:  я по думал что  вам з \n",
            "Predicted:  я  думал ты п ридёш \n",
            "\n",
            "\n",
            "Source:  this  year i  don t wa nt  t \n",
            "Target:  в этом го ду я  не хо \n",
            "Predicted:  в этом го ду я  не хо \n",
            "\n",
            "\n",
            "Source:  tom  doesn t wa nt  the  same  \n",
            "Target:  том не хоч ет ч тобы з  \n",
            "Predicted:  том не хоч ет то же  самое \n",
            "\n",
            "\n",
            "Source:  tom  often  sits  in  front  of  h \n",
            "Target:  том ч асто  сидит за с  \n",
            "Predicted:  том ч асто  сидит в о д \n",
            "\n",
            "\n",
            "Source:  how  much is tom  going to  be  paid  \n",
            "Target:  сколь ко том у за это за \n",
            "Predicted:  сколь ко том а б удет \n",
            "\n",
            "\n",
            "Source:  i d  like  to  get  married  \n",
            "Target:  я хо тел бы ж енить ся  \n",
            "Predicted:  я хо тел бы пож енить ся  \n",
            "\n",
            "\n",
            "Source:  i  have a  lot  of th ings  t \n",
            "Target:  я  долж ен м ногое  сде \n",
            "Predicted:  у м еня  много ч его \n",
            "\n",
            "\n",
            "Source:  tom  told  me  that i  shouldn t  \n",
            "Target:  том с каза л м не что   \n",
            "Predicted:  том с каза л м не что   \n",
            "\n",
            "\n",
            "Source:  there  are  more  than  seven th ousan \n",
            "Target:  в м ире  сущ ествует \n",
            "Predicted:  есть б ольше  сего д \n",
            "\n",
            "\n",
            "Source:  this is  the  place  where  m \n",
            "Target:  это  место  в  котором  \n",
            "Predicted:  это  место г де  моё \n",
            "\n",
            "\n"
          ]
        }
      ]
    },
    {
      "cell_type": "code",
      "source": [
        "plot_results(train_loss_list, val_loss_list, val_bleu_list, run_name='T5Transforme with attention training')"
      ],
      "metadata": {
        "colab": {
          "base_uri": "https://localhost:8080/",
          "height": 316
        },
        "id": "14IbbPsHHpuo",
        "outputId": "c0dcd181-c496-4bdc-8605-cd62a3d8ee94"
      },
      "id": "14IbbPsHHpuo",
      "execution_count": 48,
      "outputs": [
        {
          "output_type": "display_data",
          "data": {
            "text/plain": [
              "<Figure size 2000x500 with 2 Axes>"
            ],
            "image/png": "[encoded data removed]"
          },
          "metadata": {}
        }
      ]
    },
    {
      "cell_type": "code",
      "source": [],
      "metadata": {
        "id": "bTtP7QOLJHn9"
      },
      "id": "bTtP7QOLJHn9",
      "execution_count": null,
      "outputs": []
    }
  ],
  "metadata": {
    "kernelspec": {
      "display_name": "Python 3",
      "name": "python3"
    },
    "language_info": {
      "name": "python"
    },
    "colab": {
      "provenance": [],
      "gpuType": "A100"
    },
    "accelerator": "GPU",
    "gpuClass": "standard"
  },
  "nbformat": 4,
  "nbformat_minor": 5
}